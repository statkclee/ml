{
 "cells": [
  {
   "cell_type": "markdown",
   "metadata": {},
   "source": [
    "## 기계학습 맛보기 [^credit-scoring]\n",
    "\n",
    "[^credit-scoring]: [Guide to Credit Scoring in R](https://cran.r-project.org/doc/contrib/Sharma-CreditScoring.pdf)\n",
    "\n",
    "기계학습 맛보기는 전처리가 완료된 데이터를 가져와서 기계학습 모형을 선정하고, 모형이 갖는 성능을 평가하는 것으로 한정한다.\n",
    "\n",
    "### 1. 목표설정\n",
    "\n",
    "은행입장에서 보면 저신용자에게 신용카드를 발급하게 되면 빌린 돈을 갚지 못해 손실이 되고, 신용이 높은 사람에게 신용카드를 발급하게 되면 이자를 받아 수익성이 개선된다. 따라서, 은행입장에서는 다음과 같은 최적화문제를 푸는 것으로 정리된다.\n",
    "\n",
    "> ### 신용카드 기계학습 목표 {.getready}\n",
    ">\n",
    "> 은행입장에서 **수익을 극대화** 하고, **신용위험을 최소화** 한다.\n",
    "\n",
    "\n",
    "### 2. 데이터 준비\n",
    "\n",
    "독일 신용데이터는 [Statlog (German Credit Data) Data Set ](http://archive.ics.uci.edu/ml/datasets/Statlog+(German+Credit+Data) [UCI Machine Learning 저장소](http://archive.ics.uci.edu/ml/index.html)에서 다운로드 받을 수 있다. 신용카드를 발급해야 하는지, 발급하지 말아야하는지에 대해 일상과 밀접한 데이터로 [신용평가점수](https://en.wikipedia.org/wiki/Credit_score)와 연관되어 있다."
   ]
  },
  {
   "cell_type": "code",
   "execution_count": 4,
   "metadata": {
    "collapsed": false
   },
   "outputs": [
    {
     "name": "stdout",
     "output_type": "stream",
     "text": [
      "(1000L, 24L) (1000L,)\n"
     ]
    }
   ],
   "source": [
    "import urllib\n",
    "import numpy as np\n",
    "url=\"http://archive.ics.uci.edu/ml/machine-learning-databases/statlog/german/german.data-numeric\"\n",
    "raw_data = urllib.urlopen(url)\n",
    "credit=np.genfromtxt(raw_data)\n",
    "X,y = credit[:,:-1], credit[:,-1:].squeeze() \n",
    "print X.shape, y.shape"
   ]
  },
  {
   "cell_type": "markdown",
   "metadata": {},
   "source": [
    "#### 1.1. 독일신용데이터 살펴보기\n",
    "\n",
    "1,000 명이 신용카드발급을 신청했는데 변수 20개로 신용카드발급을 평가하는 기계학습 알고리즘을 개발한다.\n",
    "\n",
    "비용함수도 포함되어 있는데, 저신용자에게 신용카드를 발급할 경우는 그 반대의 경우에 비해 5배 비용이 많이 소요된다. 아래 **비용함수(Cost Function)** 를 마케팅 캠페인등에 사용하면 **수익함수(Profit Function)** 라고 부르기도 한다. 1종, 2종 오류를 범할 경우 수익/비용에서 차이가 나기 때문이다. \n",
    "\n",
    "| | 1 | 2 |\n",
    "|----|-----|-----|\n",
    "| 1  |  0  |  1  |\n",
    "| 2  |  5  |  0  |\n",
    "\n",
    "기계학습을 활용한 은행이나 카드사는 수익성을 전제로하여 기계학습 알고리듬을 도입한다. 예를 들어, \n",
    "향후 5년간 신용카드발급에서 이자수익이 40% 예상되고, 신용불량으로 인해 대손이 발생된다면 다음과 같이 수익행렬을 작성할 수 있다.\n",
    "\n",
    "|                 | 정상(예측) | 신용불량(예측) |\n",
    "|-----------------|:---------:|:---------:|\n",
    "| 정상(실제)      |   0.4     |     0     |\n",
    "| 신용불량(실제)  |    -1     |     0     |\n",
    "\n",
    "\n",
    "[참고: Analysis of German Credit Data](https://onlinecourses.science.psu.edu/stat857/node/215)"
   ]
  },
  {
   "cell_type": "code",
   "execution_count": 5,
   "metadata": {
    "collapsed": false
   },
   "outputs": [
    {
     "data": {
      "text/plain": [
       "array([[  1.,   6.,   4., ...,   0.,   1.,   1.],\n",
       "       [  2.,  48.,   2., ...,   0.,   1.,   2.],\n",
       "       [  4.,  12.,   4., ...,   1.,   0.,   1.],\n",
       "       ..., \n",
       "       [  4.,  12.,   2., ...,   0.,   1.,   1.],\n",
       "       [  1.,  45.,   2., ...,   0.,   1.,   2.],\n",
       "       [  2.,  45.,   4., ...,   0.,   1.,   1.]])"
      ]
     },
     "execution_count": 5,
     "metadata": {},
     "output_type": "execute_result"
    }
   ],
   "source": [
    "credit"
   ]
  },
  {
   "cell_type": "code",
   "execution_count": 11,
   "metadata": {
    "collapsed": false
   },
   "outputs": [
    {
     "data": {
      "text/plain": [
       "25000"
      ]
     },
     "execution_count": 11,
     "metadata": {},
     "output_type": "execute_result"
    }
   ],
   "source": []
  },
  {
   "cell_type": "code",
   "execution_count": null,
   "metadata": {
    "collapsed": true
   },
   "outputs": [],
   "source": []
  }
 ],
 "metadata": {
  "kernelspec": {
   "display_name": "Python 2",
   "language": "python",
   "name": "python2"
  },
  "language_info": {
   "codemirror_mode": {
    "name": "ipython",
    "version": 2
   },
   "file_extension": ".py",
   "mimetype": "text/x-python",
   "name": "python",
   "nbconvert_exporter": "python",
   "pygments_lexer": "ipython2",
   "version": "2.7.11"
  }
 },
 "nbformat": 4,
 "nbformat_minor": 0
}
